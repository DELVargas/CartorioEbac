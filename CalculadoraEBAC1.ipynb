{
  "nbformat": 4,
  "nbformat_minor": 0,
  "metadata": {
    "colab": {
      "provenance": [],
      "authorship_tag": "ABX9TyOQtgvOfzAvfew/M6Dt5+Ay",
      "include_colab_link": true
    },
    "kernelspec": {
      "name": "python3",
      "display_name": "Python 3"
    },
    "language_info": {
      "name": "python"
    }
  },
  "cells": [
    {
      "cell_type": "markdown",
      "metadata": {
        "id": "view-in-github",
        "colab_type": "text"
      },
      "source": [
        "<a href=\"https://colab.research.google.com/github/DELVargas/CartorioEbac/blob/main/CalculadoraEBAC1.ipynb\" target=\"_parent\"><img src=\"https://colab.research.google.com/assets/colab-badge.svg\" alt=\"Open In Colab\"/></a>"
      ]
    },
    {
      "cell_type": "code",
      "source": [
        "# Função para realizar as Operações\n",
        "def calcular():\n",
        "    print(\"Escolha uma operação:\")\n",
        "    print(\"1. Adição\")\n",
        "    print(\"2. Subtração\")\n",
        "    print(\"3. Multiplicação\")\n",
        "    print(\"4. Divisão\")\n",
        "\n",
        "    operacao = input(\"Digite o número da operação (1/2/3/4): \")  # Recebe a operação escolhida pelo usuário.\n",
        "\n",
        "    # Recebe os números de entrada do usuário para converter\n",
        "    try:\n",
        "        num1 = float(input(\"Digite o primeiro número: \"))\n",
        "        num2 = float(input(\"Digite o segundo número: \"))\n",
        "    except ValueError:\n",
        "        print(\"Por favor, insira números válidos.\") # Função adicionada para que o usuário insira apenas números e não letras, evitando a quebra do progama.\n",
        "        return\n",
        "\n",
        "    # Realiza a opção escolhida\n",
        "    if operacao == '1':\n",
        "        resultado = num1 + num2\n",
        "        print(f\"O resultado da adição é: {resultado}\")\n",
        "\n",
        "    elif operacao == '2':\n",
        "        resultado = num1 - num2\n",
        "        print(f\"O resultado da subtração é: {resultado}\")\n",
        "\n",
        "    elif operacao == '3':\n",
        "        resultado = num1 * num2\n",
        "        print(f\"O resultado da multiplicação é: {resultado}\")\n",
        "\n",
        "    elif operacao == '4':\n",
        "        if num2 != 0:\n",
        "            resultado = num1 / num2\n",
        "            print(f\"O resultado da divisão é: {resultado}\")\n",
        "        else:\n",
        "            print(\"Erro! Não é possível dividir por zero.\")\n",
        "\n",
        "    else:\n",
        "        print(\"Operação inválida. Tente novamente.\")\n",
        "\n",
        "# Loop principal para permitir múltiplas operações\n",
        "while True:\n",
        "    calcular()\n",
        "    continuar = input(\"Deseja realizar outra operação? (sim/não): \").lower()\n",
        "    if continuar != \"sim\":\n",
        "        print(\"Obrigado por utilizar a calculadora!\")\n",
        "        break\n"
      ],
      "metadata": {
        "id": "dh5C6EzQ4jmE"
      },
      "execution_count": null,
      "outputs": []
    },
    {
      "cell_type": "code",
      "source": [
        "codigo = \"\"\"# Função para realizar as Operações\n",
        "def calcular():\n",
        "    print(\"Escolha uma operação:\")\n",
        "    print(\"1. Adição\")\n",
        "    print(\"2. Subtração\")\n",
        "    print(\"3. Multiplicação\")\n",
        "    print(\"4. Divisão\")\n",
        "\n",
        "    operacao = input(\"Digite o número da operação (1/2/3/4): \")\n",
        "\n",
        "    try:\n",
        "        num1 = float(input(\"Digite o primeiro número: \"))\n",
        "        num2 = float(input(\"Digite o segundo número: \"))\n",
        "    except ValueError:\n",
        "        print(\"Por favor, insira números válidos.\")\n",
        "        return\n",
        "\n",
        "    if operacao == '1':\n",
        "        resultado = num1 + num2\n",
        "        print(f\"O resultado da adição é: {resultado}\")\n",
        "    elif operacao == '2':\n",
        "        resultado = num1 - num2\n",
        "        print(f\"O resultado da subtração é: {resultado}\")\n",
        "    elif operacao == '3':\n",
        "        resultado = num1 * num2\n",
        "        print(f\"O resultado da multiplicação é: {resultado}\")\n",
        "    elif operacao == '4':\n",
        "        if num2 != 0:\n",
        "            resultado = num1 / num2\n",
        "            print(f\"O resultado da divisão é: {resultado}\")\n",
        "        else:\n",
        "            print(\"Erro! Não é possível dividir por zero.\")\n",
        "    else:\n",
        "        print(\"Operação inválida. Tente novamente.\")\n",
        "\n",
        "if __name__ == \"__main__\":\n",
        "    while True:\n",
        "        calcular()\n",
        "        continuar = input(\"Deseja realizar outra operação? (sim/não): \").lower()\n",
        "        if continuar != \"sim\":\n",
        "            print(\"Obrigado por utilizar a calculadora!\")\n",
        "            break\n",
        "\"\"\"\n",
        "\n",
        "# Criar e salvar o arquivo calculadora.py\n",
        "with open(\"calculadora.py\", \"w\") as arquivo:\n",
        "    arquivo.write(codigo)\n",
        "\n",
        "print(\"Arquivo 'calculadora.py' criado com sucesso!\")\n"
      ],
      "metadata": {
        "id": "PK6jcyjJ1x0I"
      },
      "execution_count": null,
      "outputs": []
    },
    {
      "cell_type": "code",
      "source": [
        "script_sh = \"\"\"#!/bin/bash\n",
        "python3 calculadora.py\n",
        "\"\"\"\n",
        "\n",
        "with open(\"executar_calculadora.sh\", \"w\") as arquivo:\n",
        "    arquivo.write(script_sh)\n",
        "\n",
        "print(\"Arquivo 'executar_calculadora.sh' criado com sucesso!\")\n"
      ],
      "metadata": {
        "id": "1ZTNyhnF12lx"
      },
      "execution_count": null,
      "outputs": []
    },
    {
      "cell_type": "code",
      "source": [
        "!chmod +x executar_calculadora.sh"
      ],
      "metadata": {
        "id": "OQqN0eN316cG"
      },
      "execution_count": null,
      "outputs": []
    },
    {
      "cell_type": "code",
      "source": [
        "!./executar_calculadora.sh\n"
      ],
      "metadata": {
        "colab": {
          "base_uri": "https://localhost:8080/"
        },
        "id": "mTK6aohC1-Yg",
        "outputId": "9c90d440-1806-49da-f755-913da6ecbb98"
      },
      "execution_count": 11,
      "outputs": [
        {
          "output_type": "stream",
          "name": "stdout",
          "text": [
            "Escolha uma operação:\n",
            "1. Adição\n",
            "2. Subtração\n",
            "3. Multiplicação\n",
            "4. Divisão\n",
            "Digite o número da operação (1/2/3/4): 3\n",
            "Digite o primeiro número: 9\n",
            "Digite o segundo número: 9\n",
            "O resultado da multiplicação é: 81.0\n",
            "Deseja realizar outra operação? (sim/não): n\n",
            "Obrigado por utilizar a calculadora!\n"
          ]
        }
      ]
    }
  ]
}